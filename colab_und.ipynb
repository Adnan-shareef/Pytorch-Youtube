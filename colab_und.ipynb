{
  "nbformat": 4,
  "nbformat_minor": 0,
  "metadata": {
    "colab": {
      "provenance": [],
      "gpuType": "T4",
      "authorship_tag": "ABX9TyO35YVquGiK6rikCTzbIpxN",
      "include_colab_link": true
    },
    "kernelspec": {
      "name": "python3",
      "display_name": "Python 3"
    },
    "language_info": {
      "name": "python"
    },
    "accelerator": "GPU"
  },
  "cells": [
    {
      "cell_type": "markdown",
      "metadata": {
        "id": "view-in-github",
        "colab_type": "text"
      },
      "source": [
        "<a href=\"https://colab.research.google.com/github/Adnan-shareef/Pytorch-Youtube/blob/main/colab_und.ipynb\" target=\"_parent\"><img src=\"https://colab.research.google.com/assets/colab-badge.svg\" alt=\"Open In Colab\"/></a>"
      ]
    },
    {
      "cell_type": "code",
      "execution_count": null,
      "metadata": {
        "colab": {
          "base_uri": "https://localhost:8080/"
        },
        "id": "agTVNsRZ-uWG",
        "outputId": "110cbe9b-0309-459d-93ed-b24f57c37fa8"
      },
      "outputs": [
        {
          "output_type": "execute_result",
          "data": {
            "text/plain": [
              "4"
            ]
          },
          "metadata": {},
          "execution_count": 2
        }
      ],
      "source": [
        "2+2"
      ]
    },
    {
      "cell_type": "code",
      "source": [
        "import torch\n",
        "import numpy as np\n"
      ],
      "metadata": {
        "id": "zXLFxYu8_bjT"
      },
      "execution_count": null,
      "outputs": []
    },
    {
      "cell_type": "markdown",
      "source": [
        "Python List"
      ],
      "metadata": {
        "id": "BPJNt1hejEDu"
      }
    },
    {
      "cell_type": "code",
      "source": [
        "list=[[1,2,3,4],[5,6,7,8]]\n",
        "print(list)"
      ],
      "metadata": {
        "id": "qTsUfQkS_cw7",
        "colab": {
          "base_uri": "https://localhost:8080/"
        },
        "outputId": "d990e638-1180-4a82-d8de-c4cad4622b10"
      },
      "execution_count": null,
      "outputs": [
        {
          "output_type": "stream",
          "name": "stdout",
          "text": [
            "[[1, 2, 3, 4], [5, 6, 7, 8]]\n"
          ]
        }
      ]
    },
    {
      "cell_type": "markdown",
      "source": [
        "Numpy"
      ],
      "metadata": {
        "id": "aSHwy_MQjcnW"
      }
    },
    {
      "cell_type": "code",
      "source": [
        "np1=np.random.rand(3,4)\n",
        "print(np1)"
      ],
      "metadata": {
        "colab": {
          "base_uri": "https://localhost:8080/"
        },
        "id": "sERRWdHmjVnm",
        "outputId": "54ad2d22-067d-45db-8d75-bab6c9c6255b"
      },
      "execution_count": null,
      "outputs": [
        {
          "output_type": "stream",
          "name": "stdout",
          "text": [
            "[[0.54644654 0.90741511 0.97589044 0.19463491]\n",
            " [0.14276884 0.84423304 0.28742688 0.02402657]\n",
            " [0.56686699 0.17599083 0.58049819 0.94258466]]\n"
          ]
        }
      ]
    },
    {
      "cell_type": "code",
      "source": [
        "np1.dtype"
      ],
      "metadata": {
        "colab": {
          "base_uri": "https://localhost:8080/"
        },
        "id": "OfQuc7GCjppl",
        "outputId": "71698695-a327-41b5-9a55-1f098337e397"
      },
      "execution_count": null,
      "outputs": [
        {
          "output_type": "execute_result",
          "data": {
            "text/plain": [
              "dtype('float64')"
            ]
          },
          "metadata": {},
          "execution_count": 8
        }
      ]
    },
    {
      "cell_type": "code",
      "source": [
        "pt=torch.randn(3,3,4)\n",
        "pt"
      ],
      "metadata": {
        "colab": {
          "base_uri": "https://localhost:8080/"
        },
        "id": "PWT1QuKtjsdk",
        "outputId": "cf460ea2-9406-4d63-c43b-54ba707343c9"
      },
      "execution_count": null,
      "outputs": [
        {
          "output_type": "execute_result",
          "data": {
            "text/plain": [
              "tensor([[[-1.6361, -1.0958,  1.8503,  0.7965],\n",
              "         [-0.9320, -0.9373,  1.0358, -0.0383],\n",
              "         [-0.5879,  0.5437,  0.7888, -0.2729]],\n",
              "\n",
              "        [[ 0.7211, -0.6939,  1.4423,  0.4210],\n",
              "         [-0.3582, -1.9480,  1.1165,  0.1539],\n",
              "         [ 0.1261,  0.3783, -0.7616,  0.0266]],\n",
              "\n",
              "        [[-0.1526, -0.9272, -0.6984,  0.0156],\n",
              "         [ 0.8364,  0.6845,  0.7767, -1.0231],\n",
              "         [ 0.6209,  0.3061,  0.8098, -0.5538]]])"
            ]
          },
          "metadata": {},
          "execution_count": 13
        }
      ]
    },
    {
      "cell_type": "code",
      "source": [
        "nptotorch=torch.tensor(np1)\n",
        "print(nptotorch)"
      ],
      "metadata": {
        "colab": {
          "base_uri": "https://localhost:8080/"
        },
        "id": "pnEfVsGMkQzU",
        "outputId": "60bb9105-5f14-4270-d7fa-4fe48c8d3bb9"
      },
      "execution_count": null,
      "outputs": [
        {
          "output_type": "stream",
          "name": "stdout",
          "text": [
            "tensor([[0.5464, 0.9074, 0.9759, 0.1946],\n",
            "        [0.1428, 0.8442, 0.2874, 0.0240],\n",
            "        [0.5669, 0.1760, 0.5805, 0.9426]], dtype=torch.float64)\n"
          ]
        }
      ]
    },
    {
      "cell_type": "code",
      "source": [],
      "metadata": {
        "id": "UbrDviLBsmUT"
      },
      "execution_count": null,
      "outputs": []
    },
    {
      "cell_type": "code",
      "source": [],
      "metadata": {
        "id": "43VdXqm9mo3i"
      },
      "execution_count": null,
      "outputs": []
    }
  ]
}